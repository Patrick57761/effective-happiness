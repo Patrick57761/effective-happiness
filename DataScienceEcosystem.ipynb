{
 "cells": [
  {
   "cell_type": "markdown",
   "id": "63814460-5931-473b-b507-355a715e9085",
   "metadata": {},
   "source": [
    "# Data Science Tools and Ecosystem"
   ]
  },
  {
   "cell_type": "markdown",
   "id": "02a68d6c-fc9b-4d3b-be8c-566e553fb290",
   "metadata": {},
   "source": [
    "In this notebook, Data Science Tools and Ecosystem are summarized."
   ]
  },
  {
   "cell_type": "markdown",
   "id": "1959d64f-3680-4478-8662-1358abad468b",
   "metadata": {},
   "source": [
    "Objectives:\n",
    "- Python\n",
    "- R\n",
    "- SQL"
   ]
  },
  {
   "cell_type": "markdown",
   "id": "a591a3f9-6d92-4b2e-9825-8b0497c1b73d",
   "metadata": {},
   "source": [
    "Some of the popular languages that Data Scientists use are:\n",
    "1. Python\n",
    "2. JavaScript\n",
    "3. C++"
   ]
  },
  {
   "cell_type": "markdown",
   "id": "70eea8cb-b847-4290-ac6c-36bbac96143d",
   "metadata": {},
   "source": [
    "Some of the commonly used libraries used by Data Scientists include:\n",
    "1. NumPy\n",
    "2. Pandas\n",
    "3. SciPy"
   ]
  },
  {
   "cell_type": "markdown",
   "id": "62d4d5c6-6e1b-4476-876f-a5aeac2287a9",
   "metadata": {},
   "source": [
    "|Data Science Tools|\n",
    "|:----------------:|\n",
    "|Jupyter Notebook|\n",
    "|Jupyter Lab|\n",
    "|RStudio|"
   ]
  },
  {
   "cell_type": "markdown",
   "id": "ecea9ad9-0c03-4840-b32f-f147c7dabed0",
   "metadata": {},
   "source": [
    "### Below are a few examples of evaluating arithmetic expressions in Python"
   ]
  },
  {
   "cell_type": "code",
   "execution_count": 25,
   "id": "a0b85b2a-5bcc-4cba-b6cd-5e34430d2876",
   "metadata": {},
   "outputs": [
    {
     "data": {
      "text/plain": [
       "17"
      ]
     },
     "execution_count": 25,
     "metadata": {},
     "output_type": "execute_result"
    }
   ],
   "source": [
    "#This a simple arithmetic expression to mutiply then add integers\n",
    "(3*4)+511-authordetails.png"
   ]
  },
  {
   "cell_type": "code",
   "execution_count": 33,
   "id": "b3ce65ae-4194-47cc-9f7e-bed234132268",
   "metadata": {},
   "outputs": [
    {
     "name": "stdout",
     "output_type": "stream",
     "text": [
      "3.3333333333333335 hours\n"
     ]
    }
   ],
   "source": [
    "#This will convert 200 minutes to hours by diving by 60\n",
    "minutes = '200 minutes'\n",
    "minutes, text = minutes.split(' ')\n",
    "print(f'{float(minutes) / 60} hours')"
   ]
  },
  {
   "cell_type": "markdown",
   "id": "22149a3a-610b-4380-88c0-571db623bf8a",
   "metadata": {},
   "source": [
    "## Author\n",
    "Patrick"
   ]
  },
  {
   "cell_type": "code",
   "execution_count": null,
   "id": "51df9436-88cf-4740-b6e0-a7d09cfe879f",
   "metadata": {},
   "outputs": [],
   "source": []
  }
 ],
 "metadata": {
  "kernelspec": {
   "display_name": "Python [conda env:base] *",
   "language": "python",
   "name": "conda-base-py"
  },
  "language_info": {
   "codemirror_mode": {
    "name": "ipython",
    "version": 3
   },
   "file_extension": ".py",
   "mimetype": "text/x-python",
   "name": "python",
   "nbconvert_exporter": "python",
   "pygments_lexer": "ipython3",
   "version": "3.12.4"
  }
 },
 "nbformat": 4,
 "nbformat_minor": 5
}
